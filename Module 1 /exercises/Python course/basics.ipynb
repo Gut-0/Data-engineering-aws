{
 "cells": [
  {
   "cell_type": "markdown",
   "source": [
    "# Python Course"
   ],
   "metadata": {
    "collapsed": false
   },
   "id": "832f916837aacf46"
  },
  {
   "cell_type": "markdown",
   "source": [
    "## Numbers\n",
    "> Some basic math operations."
   ],
   "metadata": {
    "collapsed": false
   },
   "id": "eb0629456384a6f8"
  },
  {
   "cell_type": "code",
   "execution_count": null,
   "outputs": [],
   "source": [
    "negativeNumber = -19\n",
    "\n",
    "modFiftyByFive = 50 % 5\n",
    "\n",
    "modSevenByFour = 7 % 4"
   ],
   "metadata": {
    "collapsed": false
   },
   "id": "f8d8e0e0f8d2575b"
  },
  {
   "cell_type": "code",
   "execution_count": null,
   "outputs": [],
   "source": [
    "print('Negative number:', negativeNumber)\n",
    "print('\\nMod fifty by five:', modFiftyByFive)\n",
    "print('\\nMod seven by four:', modSevenByFour)"
   ],
   "metadata": {
    "collapsed": false
   },
   "id": "8e128af6789b3b8"
  },
  {
   "cell_type": "markdown",
   "source": [
    "## Strings\n",
    "> Indexing, Slicing, Formatting and Methods."
   ],
   "metadata": {
    "collapsed": false
   },
   "id": "c853650e039bdd39"
  },
  {
   "cell_type": "code",
   "execution_count": null,
   "outputs": [],
   "source": [
    "print('Hello')\n",
    "hello = 'Hello'\n",
    "\n",
    "print('\\nLength:', len(hello))\n",
    "print('\\nIndex[0]:', hello[0])"
   ],
   "metadata": {
    "collapsed": false
   },
   "id": "92e8507ff7424c0c"
  },
  {
   "cell_type": "code",
   "execution_count": null,
   "outputs": [],
   "source": [
    "someString = 'Some text here, lorem ipsum'\n",
    "\n",
    "print('Last word[-1]:', someString[-1])\n",
    "print('\\nNegative index:', someString[-3])"
   ],
   "metadata": {
    "collapsed": false
   },
   "id": "b4943f37ae0e2641"
  },
  {
   "cell_type": "code",
   "execution_count": null,
   "outputs": [],
   "source": [
    "print('Full text:', someString)\n",
    "\n",
    "print('\\nSlicing:', someString[0:9])\n",
    "print('\\nFrom[0] to [5]:', someString[:6])"
   ],
   "metadata": {
    "collapsed": false
   },
   "id": "b5e3d545c6227d01"
  },
  {
   "cell_type": "code",
   "execution_count": null,
   "outputs": [],
   "source": [
    "print('Full text:', someString)\n",
    "\n",
    "print('\\nReversing text[::-1]:', someString[::-1])\n",
    "print('\\nSkipping words[::2]:', someString[::2])"
   ],
   "metadata": {
    "collapsed": false
   },
   "id": "d5f84fa0b68336b2"
  },
  {
   "cell_type": "code",
   "execution_count": null,
   "outputs": [],
   "source": [
    "print('Full text:', someString)\n",
    "\n",
    "print('\\nupper():', someString.upper())\n",
    "print('\\nlower():', someString.lower())\n",
    "print('\\nText *10 times:', someString * 10)"
   ],
   "metadata": {
    "collapsed": false
   },
   "id": "44234cda3eff70fa"
  },
  {
   "cell_type": "code",
   "execution_count": null,
   "outputs": [],
   "source": [
    "print('Full text:', someString)\n",
    "\n",
    "print('\\nSplitting text:', someString.split())\n",
    "print('\\nSplit by \"E\":', someString.split('e'))"
   ],
   "metadata": {
    "collapsed": false
   },
   "id": "1ca00de9d56ed56b"
  },
  {
   "cell_type": "code",
   "execution_count": null,
   "outputs": [],
   "source": [
    "animal = 'white fox'\n",
    "seenTimes = 4\n",
    "\n",
    "print('Using variables with {}.format()')\n",
    "print('\\nThe {} has been seen {} times.'.format(animal, seenTimes))"
   ],
   "metadata": {
    "collapsed": false
   },
   "id": "66d2c3d3f5e1c7ac"
  },
  {
   "cell_type": "markdown",
   "source": [
    "## Lists\n",
    "> Concatenating arrays, adding, removing and sorting elements."
   ],
   "metadata": {
    "collapsed": false
   },
   "id": "4c388b12e0f7ee6b"
  },
  {
   "cell_type": "code",
   "execution_count": null,
   "outputs": [],
   "source": [
    "myList = ['zero', 'one', 'two', 'three']\n",
    "\n",
    "print('List index[0]:', myList[0])\n",
    "print('\\nFrom[1] to end[1:]:', myList[1:])"
   ],
   "metadata": {
    "collapsed": false
   },
   "id": "7601a95ec9b580cb"
  },
  {
   "cell_type": "code",
   "execution_count": null,
   "outputs": [],
   "source": [
    "anotherList = ['four', 'five']\n",
    "newList = myList + anotherList\n",
    "\n",
    "print('Concatenated list:', newList)"
   ],
   "metadata": {
    "collapsed": false
   },
   "id": "21e5415b3d09b28f"
  },
  {
   "cell_type": "code",
   "execution_count": null,
   "outputs": [],
   "source": [
    "newList[0] = 'NEW ELEMENT'\n",
    "\n",
    "print('Adding item, first position[0]:', newList)"
   ],
   "metadata": {
    "collapsed": false
   },
   "id": "1a8deeedc9acf9df"
  },
  {
   "cell_type": "code",
   "execution_count": null,
   "outputs": [],
   "source": [
    "newList.append('six')\n",
    "newList.append('seven')\n",
    "\n",
    "print('Adding item, append():', newList)"
   ],
   "metadata": {
    "collapsed": false
   },
   "id": "6a27624bfa3f0130"
  },
  {
   "cell_type": "code",
   "execution_count": null,
   "outputs": [],
   "source": [
    "newList.pop()\n",
    "\n",
    "print('Removing the last item, pop()', newList)"
   ],
   "metadata": {
    "collapsed": false
   },
   "id": "696ffef1b9b2a87b"
  },
  {
   "cell_type": "code",
   "execution_count": null,
   "outputs": [],
   "source": [
    "newList.pop(0)\n",
    "\n",
    "print('Removing specific index, pop(0)', newList)"
   ],
   "metadata": {
    "collapsed": false
   },
   "id": "b41183073b09df4"
  },
  {
   "cell_type": "code",
   "execution_count": null,
   "outputs": [],
   "source": [
    "charList = ['b', 'c', 'a', 'f']\n",
    "numList = [4, 8, 1, 3, 1]\n",
    "\n",
    "charList.sort()\n",
    "numList.sort()\n",
    "\n",
    "print('Sorted number list, sort()', numList)\n",
    "print('\\nSorted char list, sort()', charList)"
   ],
   "metadata": {
    "collapsed": false
   },
   "id": "e4526ffbeec38e0a"
  },
  {
   "cell_type": "code",
   "execution_count": null,
   "outputs": [],
   "source": [
    "charList.reverse()\n",
    "numList.reverse()\n",
    "\n",
    "print('Reversed number list, reverse()', numList)\n",
    "print('\\nReversed char list, reverse()', charList)"
   ],
   "metadata": {
    "collapsed": false
   },
   "id": "e58d698aeab2f696"
  },
  {
   "cell_type": "markdown",
   "source": [
    "## Dictionaries\n",
    "> Dictionaries are Unordered.\n",
    "> key: value"
   ],
   "metadata": {
    "collapsed": false
   },
   "id": "169d55aa1d6941c0"
  },
  {
   "cell_type": "code",
   "execution_count": null,
   "outputs": [],
   "source": [
    "myDictionary = {\n",
    "    'key': 'value',\n",
    "    'name': 'gustavo',\n",
    "    'age': 18,\n",
    "    'insideArray': ['a', 1, 'b', 2],\n",
    "    'insideDictionary': {\n",
    "        'insideKey': 'insideValue',\n",
    "    }\n",
    "}\n",
    "\n",
    "print('Name: {}, age: {} years old.'.format(myDictionary['name'], myDictionary['age']))"
   ],
   "metadata": {
    "collapsed": false
   },
   "id": "3b839e13bfa5264d"
  },
  {
   "cell_type": "code",
   "execution_count": null,
   "outputs": [],
   "source": [
    "print('Inside dictionary[key]:', myDictionary['insideDictionary'])\n",
    "print('\\nInside[key]inside[key]:', myDictionary['insideDictionary']['insideKey'])"
   ],
   "metadata": {
    "collapsed": false
   },
   "id": "283da1b777f0d521"
  },
  {
   "cell_type": "code",
   "execution_count": null,
   "outputs": [],
   "source": [
    "myDictionary['newKey'] = 'newValue'\n",
    "\n",
    "print('Adding new data to dictionary[newKey] = newValue')"
   ],
   "metadata": {
    "collapsed": false
   },
   "id": "c861d865cab54ea6"
  },
  {
   "cell_type": "code",
   "execution_count": null,
   "outputs": [],
   "source": [
    "print('Keys:', myDictionary.keys())\n",
    "print('\\nValues:', myDictionary.values())\n",
    "print('\\nItems:', myDictionary.items())"
   ],
   "metadata": {
    "collapsed": false
   },
   "id": "c78160b7039f7a55"
  },
  {
   "cell_type": "markdown",
   "source": [
    "## Tuples\n",
    "> Once an element is inside a tuple, it can not be reassigned."
   ],
   "metadata": {
    "collapsed": false
   },
   "id": "25b953bd1941c23c"
  },
  {
   "cell_type": "code",
   "execution_count": null,
   "outputs": [],
   "source": [
    "myTuple = (1, 2, 3, 'str', 2, 'value')\n",
    "print('Tuple:', myTuple)\n",
    "\n",
    "# count() return how many times an element is inside a tuple.\n",
    "print('\\nType:', type(myTuple))\n",
    "print('\\nMethod - count(3):', myTuple.count(3))\n",
    "print('\\nMethod - count(str):', myTuple.count('str'))\n",
    "print('\\nIndex of str:', myTuple.index('str'))"
   ],
   "metadata": {
    "collapsed": false
   },
   "id": "ddafcd1486fba62c"
  },
  {
   "cell_type": "markdown",
   "source": [
    "## Sets\n",
    "> Unordered collections of unique elements."
   ],
   "metadata": {
    "collapsed": false
   },
   "id": "9aeb8692e8cc66e3"
  },
  {
   "cell_type": "code",
   "execution_count": null,
   "outputs": [],
   "source": [
    "mySet = set()\n",
    "mySet.add(1)\n",
    "mySet.add('one')\n",
    "print('My set:', mySet)\n",
    "\n",
    "someList = [1, 'one', 'one', 2, 1, 1, 1, 2, 2, 'one', 'one']\n",
    "print('\\nMy list:', someList)\n",
    "\n",
    "print('\\nMy list to set:', set(someList))"
   ],
   "metadata": {
    "collapsed": false
   },
   "id": "25df588a3455866d"
  },
  {
   "cell_type": "markdown",
   "source": [
    "## Comparison Operators\n",
    "> These operators will allow us to compare variables and output a Boolean value."
   ],
   "metadata": {
    "collapsed": false
   },
   "id": "4752704f9e71334b"
  },
  {
   "cell_type": "code",
   "execution_count": null,
   "outputs": [],
   "source": [
    "'bye' == 'bye'"
   ],
   "metadata": {
    "collapsed": false
   },
   "id": "b9ed9cbbf3c9f3a4"
  },
  {
   "cell_type": "code",
   "execution_count": null,
   "outputs": [],
   "source": [
    "not 'bye' == 'bye'"
   ],
   "metadata": {
    "collapsed": false
   },
   "id": "54ad95ed3a977313"
  },
  {
   "cell_type": "code",
   "execution_count": null,
   "outputs": [],
   "source": [
    "(2 == 2) and (1 != 3)"
   ],
   "metadata": {
    "collapsed": false
   },
   "id": "953f132f670e4907"
  },
  {
   "cell_type": "code",
   "execution_count": null,
   "outputs": [],
   "source": [
    "(1 == 1) or (2 == 20)"
   ],
   "metadata": {
    "collapsed": false
   },
   "id": "bc039c1e08aca621"
  },
  {
   "cell_type": "code",
   "execution_count": null,
   "outputs": [],
   "source": [
    "('letter' == 'l') or (3 > 5)"
   ],
   "metadata": {
    "collapsed": false
   },
   "id": "5b6b4ce950886c15"
  },
  {
   "cell_type": "markdown",
   "source": [
    "# Python Statements\n",
    "> Conditional statements;\n",
    " * break: Breaks out of the current closest enclosing loop.\n",
    " * continue: Goes to the top of the current closest enclosing loop.\n",
    " * pass: Does nothing at all.\n",
    "\n",
    "> Looping statements;"
   ],
   "metadata": {
    "collapsed": false
   },
   "id": "4f55ebf0221a9f37"
  },
  {
   "cell_type": "code",
   "execution_count": null,
   "outputs": [],
   "source": [
    "loc = 'Bank'\n",
    "\n",
    "if loc == 'Store':\n",
    "    print('Welcome to the Store')\n",
    "elif loc == 'Bank':\n",
    "    print('Welcome to the Bank')\n",
    "else:\n",
    "    print('I do not know so much')"
   ],
   "metadata": {
    "collapsed": false
   },
   "id": "27c776785e753cb7"
  },
  {
   "cell_type": "code",
   "execution_count": null,
   "outputs": [],
   "source": [
    "myList = [1, 2, 3, 4, 5, 6, 7, 8]\n",
    "for i in myList:\n",
    "    print('Item:', i)"
   ],
   "metadata": {
    "collapsed": false
   },
   "id": "f2800141f9fa530"
  },
  {
   "cell_type": "code",
   "execution_count": null,
   "outputs": [],
   "source": [
    "for num in myList:\n",
    "    # Check for even numbers\n",
    "    if num % 2 == 0:\n",
    "        print(num)"
   ],
   "metadata": {
    "collapsed": false
   },
   "id": "1f08e47534ac6c55"
  },
  {
   "cell_type": "code",
   "execution_count": null,
   "outputs": [],
   "source": [
    "myString = 'Hello World'\n",
    "\n",
    "for letter in myString:\n",
    "    print(letter)"
   ],
   "metadata": {
    "collapsed": false
   },
   "id": "dfa1b32c587bff26"
  },
  {
   "cell_type": "code",
   "execution_count": null,
   "outputs": [],
   "source": [
    "tup = (1, 2, 3)\n",
    "\n",
    "for item in tup:\n",
    "    print(item)"
   ],
   "metadata": {
    "collapsed": false
   },
   "id": "4e226433cfd821b2"
  },
  {
   "cell_type": "code",
   "execution_count": null,
   "outputs": [],
   "source": [
    "myTupleList = [(1, 2), (3, 4), (5, 6), (7, 8)]\n",
    "\n",
    "len(myTupleList)\n",
    "\n",
    "for tup in myTupleList:\n",
    "    print(tup)"
   ],
   "metadata": {
    "collapsed": false
   },
   "id": "70192a2d5421ce0d"
  },
  {
   "cell_type": "code",
   "execution_count": null,
   "outputs": [],
   "source": [
    "for a, b in myTupleList:\n",
    "    print(a)"
   ],
   "metadata": {
    "collapsed": false
   },
   "id": "7e5d5b1306e0436d"
  },
  {
   "cell_type": "code",
   "execution_count": null,
   "outputs": [],
   "source": [
    "x = 0\n",
    "\n",
    "while x < 5:\n",
    "    print(f'The current value of x is {x}')\n",
    "    x += 1"
   ],
   "metadata": {
    "collapsed": false
   },
   "id": "d8321c3c18609ea7"
  },
  {
   "cell_type": "code",
   "execution_count": null,
   "outputs": [],
   "source": [
    "name = 'Hoopson'\n",
    "\n",
    "for letter in name:\n",
    "    if letter == 'o':\n",
    "        continue\n",
    "    print(letter)\n"
   ],
   "metadata": {
    "collapsed": false
   },
   "id": "ed8bc708ddf8c005"
  },
  {
   "cell_type": "code",
   "execution_count": null,
   "outputs": [],
   "source": [
    "name = 'Samsung'\n",
    "\n",
    "for index, letter in enumerate(name):\n",
    "    print(index)\n",
    "    print(letter)\n",
    "    print('\\n')"
   ],
   "metadata": {
    "collapsed": false
   },
   "id": "81b26600ff63b761"
  },
  {
   "cell_type": "code",
   "execution_count": null,
   "outputs": [],
   "source": [
    "myList1 = [1, 2, 3]\n",
    "myList2 = ['a', 'b', 'c']\n",
    "myList3 = [10, 20, 30]\n",
    "\n",
    "for item in zip(myList1, myList2, myList3):\n",
    "    print(item)\n",
    "\n",
    "list(zip(myList1, myList2))"
   ],
   "metadata": {
    "collapsed": false
   },
   "id": "803f9e52fd764dfa"
  },
  {
   "cell_type": "code",
   "execution_count": null,
   "outputs": [],
   "source": [
    "'world' in [1, 6, 4, 'a', 'b', 'world']"
   ],
   "metadata": {
    "collapsed": false
   },
   "id": "cbdf3a25aa9ecf2c"
  },
  {
   "cell_type": "code",
   "execution_count": null,
   "outputs": [],
   "source": [
    "20 in [1, 6, 4, 'a', 'b', 'world']"
   ],
   "metadata": {
    "collapsed": false
   },
   "id": "d609245e279fa93d"
  },
  {
   "cell_type": "code",
   "execution_count": null,
   "outputs": [],
   "source": [
    "'myKey' in {'myKey': 10}"
   ],
   "metadata": {
    "collapsed": false
   },
   "id": "ece5cb74b777660e"
  },
  {
   "cell_type": "code",
   "execution_count": null,
   "outputs": [],
   "source": [
    "dic = {'myKey1': 200}\n",
    "\n",
    "200 in dic.keys()"
   ],
   "metadata": {
    "collapsed": false
   },
   "id": "97b8c55a7b69abef"
  },
  {
   "cell_type": "code",
   "execution_count": null,
   "outputs": [],
   "source": [
    "from random import shuffle\n",
    "\n",
    "randomList = [1, 2, 3, 4, 5, 6, 7, 8, 9]\n",
    "shuffle(randomList)\n",
    "\n",
    "randomList"
   ],
   "metadata": {
    "collapsed": false
   },
   "id": "6bc8db5ab17daa73"
  },
  {
   "cell_type": "code",
   "execution_count": null,
   "outputs": [],
   "source": [
    "answer = input('What is your choice?')\n",
    "\n",
    "answer"
   ],
   "metadata": {
    "collapsed": false
   },
   "id": "c6043dd15a6690e7"
  },
  {
   "cell_type": "markdown",
   "source": [
    "# Methods and Functions\n",
    "> A function does not need any object and is independent, while the method is a function, which is linked with any object."
   ],
   "metadata": {
    "collapsed": false
   },
   "id": "6e013b80fd0d1ec8"
  },
  {
   "cell_type": "code",
   "execution_count": null,
   "outputs": [],
   "source": [
    "def check_even(number):\n",
    "    if number % 2 == 0:\n",
    "        return 'Even Number'\n",
    "    else:\n",
    "        return 'Odd Number'\n",
    "\n",
    "\n",
    "check_even(2)"
   ],
   "metadata": {
    "collapsed": false
   },
   "id": "2ef56da5938f72d0"
  },
  {
   "cell_type": "code",
   "execution_count": null,
   "outputs": [],
   "source": [
    "def check_even_list(number_list):\n",
    "    even_list = []\n",
    "\n",
    "    for num in number_list:\n",
    "        if num % 2 == 0:\n",
    "            even_list.append(num)\n",
    "        else:\n",
    "            pass\n",
    "\n",
    "    return even_list\n",
    "\n",
    "\n",
    "check_even_list([1, 5, 3, 2, 10, 8])"
   ],
   "metadata": {
    "collapsed": false
   },
   "id": "3f4d3fa7af32a8f5"
  },
  {
   "cell_type": "code",
   "execution_count": null,
   "outputs": [],
   "source": [
    "worked_hours = [('Jhon', 300), ('Billy', 500), ('Cassie', 600)]\n",
    "\n",
    "\n",
    "def check_employee(worked_hours_by_employee):\n",
    "    max_hours = 0\n",
    "    employee_of_month = ''\n",
    "\n",
    "    for employee, hours in worked_hours_by_employee:\n",
    "        if hours > max_hours:\n",
    "            max_hours = hours\n",
    "            employee_of_month = employee\n",
    "        else:\n",
    "            pass\n",
    "\n",
    "    return employee_of_month, max_hours\n",
    "\n",
    "\n",
    "check_employee(worked_hours)"
   ],
   "metadata": {
    "collapsed": false
   },
   "id": "9e9a9de2ea556696"
  },
  {
   "cell_type": "code",
   "execution_count": 14,
   "outputs": [
    {
     "name": "stdout",
     "output_type": "stream",
     "text": [
      "You Win!\n",
      "[' ', ' ', 'O', ' ', ' ']\n"
     ]
    }
   ],
   "source": [
    "from random import shuffle\n",
    "\n",
    "\n",
    "def shuffle_ball(list_):\n",
    "    shuffle(list_)\n",
    "    return list_\n",
    "\n",
    "\n",
    "def player_guess():\n",
    "    guess = ''\n",
    "\n",
    "    while guess not in ['0', '1', '2', '3', '4']:\n",
    "        guess = input('Select a number between 0 and 4')\n",
    "\n",
    "    return int(guess)\n",
    "\n",
    "\n",
    "def check_guess(list_with_ball, guess):\n",
    "    if list_with_ball[guess] == 'O':\n",
    "        print('You Win!')\n",
    "        print(list_with_ball)\n",
    "    else:\n",
    "        print('Wrong guess!')\n",
    "        print(list_with_ball)\n",
    "\n",
    "\n",
    "list_containing_the_ball = [' ', ' ', 'O', ' ', ' ']\n",
    "shuffled_list = shuffle_ball(list_containing_the_ball)\n",
    "user_guess = player_guess()\n",
    "check_guess(shuffled_list, user_guess)\n"
   ],
   "metadata": {
    "collapsed": false,
    "ExecuteTime": {
     "end_time": "2023-10-17T12:12:07.867698442Z",
     "start_time": "2023-10-17T12:12:06.364424410Z"
    }
   },
   "id": "45b3bf9b039eb145"
  },
  {
   "cell_type": "code",
   "execution_count": null,
   "outputs": [],
   "source": [
    "def sum_unlimited_args(*args):\n",
    "    print(args)\n",
    "    return sum(args)\n",
    "\n",
    "\n",
    "sum_unlimited_args(1, 10, 100, 1000)"
   ],
   "metadata": {
    "collapsed": false
   },
   "id": "a4da8ef10083f64e"
  },
  {
   "cell_type": "code",
   "execution_count": null,
   "outputs": [],
   "source": [
    "def unlimited_dics(**kwargs):\n",
    "    print(kwargs)\n",
    "    if 'name' in kwargs:\n",
    "        print('hello {}'.format(kwargs['name']))\n",
    "\n",
    "\n",
    "unlimited_dics(fruit='apple', animal='dog', name='user')"
   ],
   "metadata": {
    "collapsed": false
   },
   "id": "7d7411382e42c66d"
  },
  {
   "cell_type": "code",
   "execution_count": null,
   "outputs": [],
   "source": [
    "def square(number):\n",
    "    return number ** 2\n",
    "\n",
    "\n",
    "var = lambda number: number ** 2\n",
    "my_numbers = [1, 2, 3, 4, 5, 6]\n",
    "\n",
    "for item in map(square, my_numbers):\n",
    "    print(item)"
   ],
   "metadata": {
    "collapsed": false
   },
   "id": "9141c9313bb2d353"
  },
  {
   "cell_type": "code",
   "execution_count": null,
   "outputs": [],
   "source": [
    "def check_even(number):\n",
    "    return number % 2 == 0\n",
    "\n",
    "\n",
    "my_numbers = [1, 2, 3, 4, 5, 6]\n",
    "list(filter(check_even, my_numbers))"
   ],
   "metadata": {
    "collapsed": false
   },
   "id": "399fb3a4f3c8ebae"
  },
  {
   "cell_type": "code",
   "execution_count": null,
   "outputs": [],
   "source": [
    "my_numbers = [1, 2, 3, 4, 5, 6]\n",
    "\n",
    "print(\n",
    "    list(map(lambda number: number ** 2, my_numbers))\n",
    ")\n",
    "\n",
    "print(\n",
    "    list(filter(lambda number: number % 2 == 0, my_numbers))\n",
    ")"
   ],
   "metadata": {
    "collapsed": false
   },
   "id": "ec46c9de44c3107f"
  }
 ],
 "metadata": {
  "kernelspec": {
   "display_name": "Python 3",
   "language": "python",
   "name": "python3"
  },
  "language_info": {
   "codemirror_mode": {
    "name": "ipython",
    "version": 2
   },
   "file_extension": ".py",
   "mimetype": "text/x-python",
   "name": "python",
   "nbconvert_exporter": "python",
   "pygments_lexer": "ipython2",
   "version": "2.7.6"
  }
 },
 "nbformat": 4,
 "nbformat_minor": 5
}
